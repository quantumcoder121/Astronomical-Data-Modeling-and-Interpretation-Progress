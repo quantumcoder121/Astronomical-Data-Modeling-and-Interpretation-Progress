{
  "nbformat": 4,
  "nbformat_minor": 0,
  "metadata": {
    "colab": {
      "name": "binapprox.ipynb",
      "provenance": [],
      "collapsed_sections": []
    },
    "kernelspec": {
      "name": "python3",
      "display_name": "Python 3"
    },
    "language_info": {
      "name": "python"
    }
  },
  "cells": [
    {
      "cell_type": "markdown",
      "metadata": {
        "id": "YVZ3LOvpAspp"
      },
      "source": [
        "First of all let's put the required imports:\n",
        "\n",
        "\n",
        "*   **Time**: This is just for finding out the time needed for the Algorithm.\n",
        "*   **NumPy**: This will be our main module as we'll work with NumPy Arrays mostly and it will also be required for finding out Mean and Standard Deviation.\n",
        "*   **AstroPy (FITS Module)**: We need the FITS Module of AstroPy for working with .fits files which are mostly used for Astronomical Images.\n",
        "\n",
        "\n",
        "\n"
      ]
    },
    {
      "cell_type": "code",
      "metadata": {
        "id": "Irxjp6Y5Aah1"
      },
      "source": [
        "import time\n",
        "import numpy as np\n",
        "from astropy.io import fits"
      ],
      "execution_count": null,
      "outputs": []
    },
    {
      "cell_type": "markdown",
      "metadata": {
        "id": "brMZxgH6CZN1"
      },
      "source": [
        "Next we define a Running Stats function which implements the Welford's Method for finding out the running mean and standard deviation of each pixel in the FITS Image. The fits module is used here to open a fits file."
      ]
    },
    {
      "cell_type": "code",
      "metadata": {
        "id": "iV4K46ElCZ4z"
      },
      "source": [
        "def running_stats(filenames):\n",
        "  \n",
        "  n = 0\n",
        "  for filename in filenames:\n",
        "    hdulist = fits.open(filename)\n",
        "    data = hdulist[0].data\n",
        "    if n == 0:\n",
        "      mean = np.zeros_like(data)\n",
        "      s = np.zeros_like(data)\n",
        "\n",
        "    n += 1\n",
        "    delta = data - mean\n",
        "    mean += delta/n\n",
        "    s += delta*(data - mean)\n",
        "    hdulist.close()\n",
        "\n",
        "  s /= n - 1\n",
        "  np.sqrt(s, s)\n",
        "\n",
        "  if n < 2:\n",
        "    return mean, None\n",
        "  else:\n",
        "    return mean, s"
      ],
      "execution_count": null,
      "outputs": []
    },
    {
      "cell_type": "markdown",
      "metadata": {
        "id": "EzhaYWezEoTf"
      },
      "source": [
        "Now, we will define a function median_bins_fits which finds the number of values in each bin for a pixel. The left_bin includes the values that are less then mean - standard deviation. After this there are B bins that each include a range of values. Our median will be more accurate if B is increased but the run time of this Algorithm would also increase."
      ]
    },
    {
      "cell_type": "code",
      "metadata": {
        "id": "TXqsxkjuEpDJ"
      },
      "source": [
        "def median_bins_fits(filenames, B):\n",
        "  # Calculate the mean and standard dev\n",
        "  mean, std = running_stats(filenames)\n",
        "    \n",
        "  dim = mean.shape # Dimension of the FITS file arrays\n",
        "    \n",
        "  # Initialise bins\n",
        "  left_bin = np.zeros(dim)\n",
        "  bins = np.zeros((dim[0], dim[1], B))\n",
        "  bin_width = 2 * std / B \n",
        "\n",
        "  # Loop over all FITS files\n",
        "  for filename in filenames:\n",
        "      hdulist = fits.open(filename)\n",
        "      data = hdulist[0].data\n",
        "\n",
        "      # Loop over every point in the 2D array\n",
        "      for i in range(dim[0]):\n",
        "        for j in range(dim[1]):\n",
        "          value = data[i, j]\n",
        "          mean_ = mean[i, j]\n",
        "          std_ = std[i, j]\n",
        "\n",
        "          if value < mean_ - std_:\n",
        "            left_bin[i, j] += 1\n",
        "                \n",
        "          elif value >= mean_ - std_ and value < mean_ + std_:\n",
        "            bin = int((value - (mean_ - std_))/bin_width[i, j])\n",
        "            bins[i, j, bin] += 1\n",
        "\n",
        "  return mean, std, left_bin, bins"
      ],
      "execution_count": null,
      "outputs": []
    },
    {
      "cell_type": "markdown",
      "metadata": {
        "id": "2JUmwVKtGtEJ"
      },
      "source": [
        "Finally we define the median_approx_fits function which calculates the actual median."
      ]
    },
    {
      "cell_type": "code",
      "metadata": {
        "id": "oddFQGTcGt0m"
      },
      "source": [
        "def median_approx_fits(filenames, B):\n",
        "  mean, std, left_bin, bins = median_bins_fits(filenames, B)\n",
        "    \n",
        "  dim = mean.shape # Dimension of the FITS file arrays\n",
        "    \n",
        "  # Position of the middle element over all files\n",
        "  N = len(filenames)\n",
        "  mid = (N + 1)/2\n",
        "\t\n",
        "  bin_width = 2*std / B\n",
        "  # Calculate the approximated median for each array element\n",
        "  median = np.zeros(dim)   \n",
        "  for i in range(dim[0]):\n",
        "    for j in range(dim[1]):    \n",
        "      count = left_bin[i, j]\n",
        "      for b, bincount in enumerate(bins[i, j]):\n",
        "        count += bincount\n",
        "        if count >= mid:\n",
        "          # Stop when the cumulative count exceeds the midpoint\n",
        "          break\n",
        "      median[i, j] = mean[i, j] - std[i, j] + bin_width[i, j]*(b + 0.5)\n",
        "      \n",
        "  return median"
      ],
      "execution_count": null,
      "outputs": []
    }
  ]
}