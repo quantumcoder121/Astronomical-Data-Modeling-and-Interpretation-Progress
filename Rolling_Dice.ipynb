{
 "cells": [
  {
   "cell_type": "code",
   "execution_count": 6,
   "metadata": {},
   "outputs": [
    {
     "name": "stdout",
     "output_type": "stream",
     "text": [
      "Please enter the number of experiments you want to perform :\n",
      "100\n"
     ]
    },
    {
     "data": {
      "image/png": "[encoded data removed]",
      "text/plain": [
       "<Figure size 432x288 with 1 Axes>"
      ]
     },
     "metadata": {
      "needs_background": "light"
     },
     "output_type": "display_data"
    }
   ],
   "source": [
    "import random as ran\n",
    "\n",
    "import numpy as np\n",
    "\n",
    "import matplotlib.pyplot as mpl\n",
    "\n",
    "import math as ma\n",
    "\n",
    "print(\"Please enter the number of experiments you want to perform :\")\n",
    "\n",
    "n = int(input())\n",
    "\n",
    "b = int(ma.sqrt(n))\n",
    "\n",
    "Throw_output_1 = []\n",
    "\n",
    "Throw_output_2 = []\n",
    "\n",
    "for i in range(0,n) :\n",
    "    Throw_output_1.append(ran.randint(1,6))\n",
    "    Throw_output_2.append(ran.randint(1,6))\n",
    "    \n",
    "die_1 = np.array(Throw_output_1)\n",
    "    \n",
    "die_2 = np.array(Throw_output_2)\n",
    "\n",
    "output = die_1 + die_2\n",
    "\n",
    "\n",
    "\n",
    "mpl.hist(output, bins = b)\n",
    "\n",
    "mpl.show()"
   ]
  },
  {
   "cell_type": "code",
   "execution_count": null,
   "metadata": {},
   "outputs": [],
   "source": []
  },
  {
   "cell_type": "code",
   "execution_count": null,
   "metadata": {},
   "outputs": [],
   "source": []
  }
 ],
 "metadata": {
  "kernelspec": {
   "display_name": "Python 3",
   "language": "python",
   "name": "python3"
  },
  "language_info": {
   "codemirror_mode": {
    "name": "ipython",
    "version": 3
   },
   "file_extension": ".py",
   "mimetype": "text/x-python",
   "name": "python",
   "nbconvert_exporter": "python",
   "pygments_lexer": "ipython3",
   "version": "3.8.5"
  }
 },
 "nbformat": 4,
 "nbformat_minor": 4
}
