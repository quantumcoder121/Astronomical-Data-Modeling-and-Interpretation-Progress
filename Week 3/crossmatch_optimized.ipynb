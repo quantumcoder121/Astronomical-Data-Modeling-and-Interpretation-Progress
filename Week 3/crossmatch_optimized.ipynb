{
  "nbformat": 4,
  "nbformat_minor": 0,
  "metadata": {
    "colab": {
      "name": "crossmatch_optimized.ipynb",
      "provenance": [],
      "collapsed_sections": []
    },
    "kernelspec": {
      "name": "python3",
      "display_name": "Python 3"
    },
    "language_info": {
      "name": "python"
    }
  },
  "cells": [
    {
      "cell_type": "code",
      "metadata": {
        "id": "ZQVMvTstUqeW"
      },
      "source": [
        "import numpy as np\n",
        "from time import time\n",
        "\n",
        "def angular_dist_rad(r1, d1, r2, d2):\n",
        "    deltar = np.abs(r1 - r2)\n",
        "    deltad = np.abs(d1 - d2)\n",
        "    angle = 2*np.arcsin(np.sqrt(np.sin(deltad/2)**2 + np.cos(d1)*np.cos(d2)*np.sin(deltar/2)**2))\n",
        "    return angle\n",
        "\n",
        "def crossmatch(coords1, coords2, max_radius):\n",
        "    start_time = time()\n",
        "    deg2rad = np.pi/180\n",
        "    rad2deg = 180/np.pi\n",
        "    #max_radius = 5*deg2rad\n",
        "    matches = []\n",
        "    no_matches = []\n",
        "    \n",
        "    # Convert coordinates to radians\n",
        "    coords1 = coords1*deg2rad\n",
        "    coords2 = coords2*deg2rad\n",
        "    max_radius = max_radius*deg2rad\n",
        "    \n",
        "    # Find ascending declination order of second catalogue\n",
        "    asc_dec = np.argsort(coords2[:, 1])\n",
        "    coords2_sorted = coords2[asc_dec]\n",
        "    dec2_sorted = coords2_sorted[:, 1]\n",
        "    \n",
        "    for id1, (ra1, dec1) in enumerate(coords1):\n",
        "        closest_dist = np.inf\n",
        "        closest_id2 = None\n",
        "        \n",
        "        # Declination search box\n",
        "        min_dec = dec1 - max_radius\n",
        "        max_dec = dec1 + max_radius\n",
        "        \n",
        "        # Start and end indices of the search\n",
        "        start = dec2_sorted.searchsorted(min_dec, side='left')\n",
        "        end = dec2_sorted.searchsorted(max_dec, side='right')\n",
        "        \n",
        "        for s_id2, (ra2, dec2) in enumerate(coords2_sorted[start:end+1], start):\n",
        "            dist = angular_dist_rad(ra1, dec1, ra2, dec2)\n",
        "            if dist < closest_dist:\n",
        "                closest_sorted_id2 = s_id2\n",
        "                closest_dist = dist\n",
        "        \n",
        "        # Ignore match if it's outside the maximum radius\n",
        "        if closest_dist > max_radius:\n",
        "            no_matches.append(id1)\n",
        "        else:\n",
        "            closest_id2 = asc_dec[closest_sorted_id2]\n",
        "            matches.append([id1, closest_id2, closest_dist*rad2deg])\n",
        "    \n",
        "    time_taken = time() - start_time\n",
        "    return matches, no_matches, time_taken"
      ],
      "execution_count": null,
      "outputs": []
    }
  ]
}