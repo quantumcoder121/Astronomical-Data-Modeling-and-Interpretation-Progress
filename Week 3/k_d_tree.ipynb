{
  "nbformat": 4,
  "nbformat_minor": 0,
  "metadata": {
    "colab": {
      "name": "k-d_tree.ipynb",
      "provenance": [],
      "collapsed_sections": []
    },
    "kernelspec": {
      "name": "python3",
      "display_name": "Python 3"
    },
    "language_info": {
      "name": "python"
    }
  },
  "cells": [
    {
      "cell_type": "code",
      "metadata": {
        "id": "ilihL4-LWa8Z"
      },
      "source": [
        "# Write your crossmatch function here.\n",
        "import numpy as np\n",
        "from astropy.coordinates import SkyCoord\n",
        "from astropy import units as u\n",
        "from time import time\n",
        "\n",
        "def crossmatch(coords1, coords2, max_radius):\n",
        "    start_time = time()\n",
        "    #max_radius = 5\n",
        "    matches = []\n",
        "    no_matches = []\n",
        "    \n",
        "    # Convert to astropy coordinates objects\n",
        "    coords1_sc = SkyCoord(coords1*u.degree, frame='icrs')\n",
        "    coords2_sc = SkyCoord(coords2*u.degree, frame='icrs')\n",
        "    \n",
        "    # Perform crossmatching\n",
        "    closest_ids, closest_dists, _ = coords1_sc.match_to_catalog_sky(coords2_sc)\n",
        "    \n",
        "    for id1, (closest_id2, dist) in enumerate(zip(closest_ids, closest_dists)):\n",
        "        closest_dist = dist.value\n",
        "        # Ignore match if it's outside the maximum radius\n",
        "        if closest_dist > max_radius:\n",
        "            no_matches.append(id1)\n",
        "        else:\n",
        "            matches.append([id1, closest_id2, closest_dist])\n",
        "    \n",
        "    time_taken = time() - start_time\n",
        "    return matches, no_matches, time_taken\n",
        "\n",
        "\n",
        "# You can use this to test your function.\n",
        "# Any code inside this `if` statement will be ignored by the automarker.\n",
        "if __name__ == '__main__':\n",
        "  # The example in the question\n",
        "  cat1 = np.array([[180, 30], [45, 10], [300, -45]])\n",
        "  cat2 = np.array([[180, 32], [55, 10], [302, -44]])\n",
        "  matches, no_matches, time_taken = crossmatch(cat1, cat2, 5)\n",
        "  print('matches:', matches)\n",
        "  print('unmatched:', no_matches)\n",
        "  print('time taken:', time_taken)\n",
        "\n",
        "  # A function to create a random catalogue of size n\n",
        "  def create_cat(n):\n",
        "    ras = np.random.uniform(0, 360, size=(n, 1))\n",
        "    decs = np.random.uniform(-90, 90, size=(n, 1))\n",
        "    return np.hstack((ras, decs))\n",
        "\n",
        "  # Test your function on random inputs\n",
        "  np.random.seed(0)\n",
        "  cat1 = create_cat(10)\n",
        "  cat2 = create_cat(20)\n",
        "  matches, no_matches, time_taken = crossmatch(cat1, cat2, 5)\n",
        "  print('matches:', matches)\n",
        "  print('unmatched:', no_matches)\n",
        "  print('time taken:', time_taken)"
      ],
      "execution_count": null,
      "outputs": []
    }
  ]
}