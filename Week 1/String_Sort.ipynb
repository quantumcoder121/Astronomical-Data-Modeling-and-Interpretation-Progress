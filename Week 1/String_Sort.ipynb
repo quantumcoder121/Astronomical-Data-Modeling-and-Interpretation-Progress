{
 "cells": [
  {
   "cell_type": "code",
   "execution_count": null,
   "metadata": {
    "scrolled": true
   },
   "outputs": [],
   "source": [
    "print(\"Please enter the name of data-file :\")\n",
    "\n",
    "name = input()\n",
    "\n",
    "with open(name, 'r') as f:\n",
    "    List = f.read().split(\"\\n\")\n",
    "\n",
    "def mergeSort(myList) :\n",
    "    \"\"\"\n",
    "    Function to sort strings according to their sizes implemented using Merge Sort.\n",
    "    \n",
    "    Input : List[] of strings.\n",
    "    Output : Void (Original List[] is changed).\n",
    "    \"\"\"\n",
    "    if len(myList) > 1 :\n",
    "        mid = len(myList) // 2\n",
    "        left = myList[ :mid]\n",
    "        right = myList[mid: ]\n",
    "        mergeSort(left)\n",
    "        mergeSort(right)\n",
    "        i=0\n",
    "        j=0\n",
    "        k=0\n",
    "        while i<len(left) and j<len(right) :\n",
    "            if len(left[i])<len(right[j]) :\n",
    "                myList[k]=left[i]\n",
    "                i=i+1\n",
    "            else :\n",
    "                myList[k]=right[j]\n",
    "                j=j+1\n",
    "            k=k+1\n",
    "        while i<len(left):\n",
    "            myList[k] = left[i]\n",
    "            i=i+1\n",
    "            k=k+1\n",
    "        while j<len(right) :\n",
    "            myList[k] = right[j]\n",
    "            j=j+1\n",
    "            k=k+1\n",
    "\n",
    "mergeSort(List)\n",
    "print(List)"
   ]
  }
 ],
 "metadata": {
  "kernelspec": {
   "display_name": "Python 3",
   "language": "python",
   "name": "python3"
  },
  "language_info": {
   "codemirror_mode": {
    "name": "ipython",
    "version": 3
   },
   "file_extension": ".py",
   "mimetype": "text/x-python",
   "name": "python",
   "nbconvert_exporter": "python",
   "pygments_lexer": "ipython3",
   "version": "3.8.5"
  }
 },
 "nbformat": 4,
 "nbformat_minor": 4
}