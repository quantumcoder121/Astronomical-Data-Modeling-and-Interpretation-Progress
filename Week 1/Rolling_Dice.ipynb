{
 "cells": [
  {
   "cell_type": "code",
   "execution_count": null,
   "metadata": {},
   "outputs": [],
   "source": [
    "import random as ran\n",
    "\n",
    "import numpy as np\n",
    "\n",
    "import matplotlib.pyplot as mpl\n",
    "\n",
    "import math as ma\n",
    "\n",
    "print(\"Please enter the number of experiments you want to perform :\")\n",
    "\n",
    "n = int(input())\n",
    "\n",
    "b = int(ma.sqrt(n))\n",
    "\n",
    "Throw_output_1 = []\n",
    "\n",
    "Throw_output_2 = []\n",
    "\n",
    "for i in range(0,n) :\n",
    "    Throw_output_1.append(ran.randint(1,6))\n",
    "    Throw_output_2.append(ran.randint(1,6))\n",
    "    \n",
    "die_1 = np.array(Throw_output_1)\n",
    "    \n",
    "die_2 = np.array(Throw_output_2)\n",
    "\n",
    "output = die_1 + die_2\n",
    "\n",
    "mpl.hist(output, bins = b)\n",
    "\n",
    "mpl.show()"
   ]
  }
 ],
 "metadata": {
  "kernelspec": {
   "display_name": "Python 3",
   "language": "python",
   "name": "python3"
  },
  "language_info": {
   "codemirror_mode": {
    "name": "ipython",
    "version": 3
   },
   "file_extension": ".py",
   "mimetype": "text/x-python",
   "name": "python",
   "nbconvert_exporter": "python",
   "pygments_lexer": "ipython3",
   "version": "3.8.5"
  }
 },
 "nbformat": 4,
 "nbformat_minor": 4
}